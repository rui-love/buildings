{
 "cells": [
  {
   "cell_type": "code",
   "execution_count": 12,
   "metadata": {},
   "outputs": [],
   "source": [
    "import pickle\n",
    "import geopandas as gpd"
   ]
  },
  {
   "cell_type": "code",
   "execution_count": 13,
   "metadata": {},
   "outputs": [],
   "source": [
    "gdf_buildings = pickle.load(open('./data/data_bj/buildings.pkl', 'rb'))"
   ]
  },
  {
   "cell_type": "code",
   "execution_count": 17,
   "metadata": {},
   "outputs": [
    {
     "data": {
      "text/plain": [
       "{'node', 'relation', 'way'}"
      ]
     },
     "execution_count": 17,
     "metadata": {},
     "output_type": "execute_result"
    }
   ],
   "source": [
    "set([x[0] for x in list(gdf_buildings.index)])"
   ]
  },
  {
   "cell_type": "code",
   "execution_count": 11,
   "metadata": {},
   "outputs": [],
   "source": [
    "import folium\n",
    "\n",
    "m = folium.Map(location=[39.9, 116.4], zoom_start=12)\n",
    "folium.GeoJson(gdf_buildings).add_to(m)\n",
    "m.save('./data/data_bj/buildings.html')"
   ]
  },
  {
   "cell_type": "code",
   "execution_count": 18,
   "metadata": {},
   "outputs": [
    {
     "data": {
      "text/plain": [
       "{shapely.geometry.linestring.LineString,\n",
       " shapely.geometry.multipolygon.MultiPolygon,\n",
       " shapely.geometry.point.Point,\n",
       " shapely.geometry.polygon.Polygon}"
      ]
     },
     "execution_count": 18,
     "metadata": {},
     "output_type": "execute_result"
    }
   ],
   "source": [
    "set([type(x) for x in gdf_buildings.geometry])"
   ]
  },
  {
   "cell_type": "code",
   "execution_count": 20,
   "metadata": {},
   "outputs": [],
   "source": [
    "import shapely\n",
    "gdf_buildings_polygon = gdf_buildings[gdf_buildings.geometry.apply(lambda x: type(x) == shapely.geometry.polygon.Polygon)]\n",
    "m = folium.Map(location=[39.9, 116.4], zoom_start=12)\n",
    "folium.GeoJson(gdf_buildings_polygon).add_to(m)\n",
    "m.save('./data/data_bj/buildings.html')"
   ]
  },
  {
   "cell_type": "code",
   "execution_count": 22,
   "metadata": {},
   "outputs": [
    {
     "data": {
      "text/plain": [
       "Index(['amenity', 'parking', 'geometry', 'nodes', 'building', 'brand',\n",
       "       'brand:en', 'brand:wikidata', 'brand:zh', 'name',\n",
       "       ...\n",
       "       'name:no', 'name:uk', 'elevator', 'area:highway', 'map_size',\n",
       "       'species:wikidata', 'species:wikipedia', 'historic:period', 'tgw_type',\n",
       "       'alt_name_2'],\n",
       "      dtype='object', length=402)"
      ]
     },
     "execution_count": 22,
     "metadata": {},
     "output_type": "execute_result"
    }
   ],
   "source": [
    "gdf_buildings.columns"
   ]
  },
  {
   "cell_type": "code",
   "execution_count": 25,
   "metadata": {},
   "outputs": [
    {
     "data": {
      "text/plain": [
       "['amenity',\n",
       " 'parking',\n",
       " 'geometry',\n",
       " 'nodes',\n",
       " 'building',\n",
       " 'brand',\n",
       " 'brand:en',\n",
       " 'brand:wikidata',\n",
       " 'brand:zh',\n",
       " 'name',\n",
       " 'name:en',\n",
       " 'name:zh',\n",
       " 'addr:city',\n",
       " 'addr:district',\n",
       " 'addr:housenumber',\n",
       " 'addr:province',\n",
       " 'addr:street',\n",
       " 'phone',\n",
       " 'layer',\n",
       " 'addr:postcode',\n",
       " 'building:levels',\n",
       " 'email',\n",
       " 'smoking',\n",
       " 'operator',\n",
       " 'communication:satellite',\n",
       " 'man_made',\n",
       " 'ref',\n",
       " 'tower:construction',\n",
       " 'tower:type',\n",
       " 'office',\n",
       " 'content',\n",
       " 'railway',\n",
       " 'railway:position:exact',\n",
       " 'building:colour',\n",
       " 'building:material',\n",
       " 'roof:material',\n",
       " 'roof:shape',\n",
       " 'roof:colour',\n",
       " 'craft',\n",
       " 'religion',\n",
       " 'shop',\n",
       " 'shelter_type',\n",
       " 'tourism',\n",
       " 'opening_hours',\n",
       " 'telecom',\n",
       " 'height',\n",
       " 'cuisine',\n",
       " 'area',\n",
       " 'barrier',\n",
       " 'ways',\n",
       " 'type',\n",
       " 'bus',\n",
       " 'public_transport',\n",
       " 'fee',\n",
       " 'wheelchair',\n",
       " 'source',\n",
       " 'roof:height',\n",
       " 'wall',\n",
       " 'leisure',\n",
       " 'social_facility',\n",
       " 'social_facility:for',\n",
       " 'description',\n",
       " 'aerialway',\n",
       " 'aerialway:station',\n",
       " 'government',\n",
       " 'aeroway',\n",
       " 'source_ref',\n",
       " 'military',\n",
       " 'waterway',\n",
       " 'historic',\n",
       " 'museum',\n",
       " 'brand:wikipedia',\n",
       " 'police',\n",
       " 'level',\n",
       " 'atm',\n",
       " 'power',\n",
       " 'name:zh-Latn-pinyin',\n",
       " 'covered',\n",
       " 'wikidata',\n",
       " 'wikimedia_commons',\n",
       " 'wikipedia',\n",
       " 'name:zh-Hans',\n",
       " 'name:zh-Hant',\n",
       " 'sport',\n",
       " 'name:de',\n",
       " 'highway',\n",
       " 'club',\n",
       " 'name:ru',\n",
       " 'note',\n",
       " 'station',\n",
       " 'subway',\n",
       " 'screen',\n",
       " 'start_date',\n",
       " 'bicycle_parking',\n",
       " 'cooling:method',\n",
       " 'fuel:diesel',\n",
       " 'fuel:octane_92',\n",
       " 'addr:housename',\n",
       " 'fast_food',\n",
       " 'website',\n",
       " 'railway:ref',\n",
       " 'train',\n",
       " 'indoor',\n",
       " 'alt_name',\n",
       " 'name:fr',\n",
       " 'name:ja',\n",
       " 'frequency',\n",
       " 'landuse',\n",
       " 'network',\n",
       " 'capacity',\n",
       " 'official_name',\n",
       " 'emergency',\n",
       " 'internet_access',\n",
       " 'fuel:HGV_diesel',\n",
       " 'fuel:octane_95',\n",
       " 'maxheight',\n",
       " 'access',\n",
       " 'fuel:cng',\n",
       " 'roof:levels',\n",
       " 'addr:street:en',\n",
       " 'country',\n",
       " 'diplomatic',\n",
       " 'embassy',\n",
       " 'target',\n",
       " 'building:levels:underground',\n",
       " 'short_name',\n",
       " 'fax',\n",
       " 'old_name',\n",
       " 'stars',\n",
       " 'addr:country',\n",
       " 'rooms',\n",
       " 'est_height',\n",
       " 'delivery',\n",
       " 'healthcare',\n",
       " 'ele',\n",
       " 'toilet',\n",
       " 'internet_access:fee',\n",
       " 'outdoor_seating',\n",
       " 'takeaway',\n",
       " 'bicycle',\n",
       " 'foot',\n",
       " 'horse',\n",
       " 'motor_vehicle',\n",
       " 'drive_through',\n",
       " 'old_name:zh',\n",
       " 'old_name:zh-Hans',\n",
       " 'old_name:zh-Hant',\n",
       " 'brand:zh-Hans',\n",
       " 'alt_name:en',\n",
       " 'check_date',\n",
       " 'branch',\n",
       " 'branch:en',\n",
       " 'branch:zh',\n",
       " 'contact:facebook',\n",
       " 'contact:instagram',\n",
       " 'townhall:type',\n",
       " 'payment:alipay',\n",
       " 'payment:cash',\n",
       " 'payment:wechat',\n",
       " 'payment:购物卡',\n",
       " 'bench',\n",
       " 'bin',\n",
       " 'denomination',\n",
       " 'building:flats',\n",
       " 'name:ar',\n",
       " 'name:hi',\n",
       " 'name:ko',\n",
       " 'old_name:en',\n",
       " 'residential',\n",
       " 'attraction',\n",
       " 'min_height',\n",
       " 'grades',\n",
       " 'building:min_level',\n",
       " 'addr:quarter',\n",
       " 'addr:suburb',\n",
       " 'toilets:disposal',\n",
       " 'building:use',\n",
       " 'changing_table',\n",
       " 'unisex',\n",
       " 'information',\n",
       " 'monorail',\n",
       " 'payment:credit_cards',\n",
       " 'payment:debit_cards',\n",
       " 'abandoned',\n",
       " 'colour',\n",
       " 'operator:en',\n",
       " 'operator:wikidata',\n",
       " 'operator:zh',\n",
       " 'substation',\n",
       " 'surveillance',\n",
       " 'surveillance:type',\n",
       " 'addr:subdistrict',\n",
       " 'roof:orientation',\n",
       " 'building:part',\n",
       " 'building:structure',\n",
       " 'addr:place',\n",
       " 'fixme',\n",
       " 'car:rental',\n",
       " 'bath:open_air',\n",
       " 'bath:sand_bath',\n",
       " 'surface',\n",
       " 'product',\n",
       " 'studio',\n",
       " 'operator:wikipedia',\n",
       " 'second_hand',\n",
       " 'toilets',\n",
       " 'organic',\n",
       " 'alt_name:zh',\n",
       " 'operator:type',\n",
       " 'construction',\n",
       " 'trade',\n",
       " 'female',\n",
       " 'male',\n",
       " 'toilets:handwashing',\n",
       " 'disused',\n",
       " 'historic:civilization',\n",
       " 'opening_hours:signed',\n",
       " 'toilets:wheelchair',\n",
       " 'air_conditioning',\n",
       " 'baby_feeding',\n",
       " 'stroller',\n",
       " 'toilets:access',\n",
       " 'castle_type',\n",
       " 'addr:state',\n",
       " 'max_level',\n",
       " 'min_level',\n",
       " 'charge',\n",
       " 'payment:contactless',\n",
       " 'wpt_description',\n",
       " 'dance:teaching',\n",
       " 'telescope:diameter',\n",
       " 'telescope:spectrum',\n",
       " 'telescope:type',\n",
       " 'observatory:type',\n",
       " 'nohousenumber',\n",
       " 'opening_date',\n",
       " 'internet_access:ssid',\n",
       " 'disused:tourism',\n",
       " 'disused:railway',\n",
       " 'location',\n",
       " 'image',\n",
       " 'wikipedia:en',\n",
       " 'wikipedia:fr',\n",
       " 'generator:method',\n",
       " 'generator:output:electricity',\n",
       " 'generator:source',\n",
       " 'generator:type',\n",
       " 'diet:halal',\n",
       " 'alt_name_1',\n",
       " 'golf',\n",
       " 'ruins',\n",
       " 'voltage',\n",
       " 'currency:CNY',\n",
       " 'hoops',\n",
       " 'addr:full',\n",
       " 'loc_name:en',\n",
       " 'loc_name:ja',\n",
       " 'loc_name:ko',\n",
       " 'loc_name:zh',\n",
       " 'wikipedia:zh',\n",
       " 'place',\n",
       " 'int_name',\n",
       " 'addr:unit',\n",
       " 'designation',\n",
       " 'name:es',\n",
       " 'material',\n",
       " 'name:it',\n",
       " 'name:pt',\n",
       " 'alt_name:ru',\n",
       " 'loc_name',\n",
       " 'name:pl',\n",
       " 'name:th',\n",
       " 'name:he',\n",
       " 'name:vi',\n",
       " 'alt_name:fr',\n",
       " 'name:ca',\n",
       " 'name:hu',\n",
       " 'bar',\n",
       " 'alt_name:ja',\n",
       " 'name:tr',\n",
       " 'name:nl',\n",
       " 'name:da',\n",
       " 'artwork_type',\n",
       " 'name:nb',\n",
       " 'highchair',\n",
       " 'reservation',\n",
       " 'lit',\n",
       " 'department',\n",
       " 'faculty',\n",
       " 'architect',\n",
       " 'name:cs',\n",
       " 'name:eo',\n",
       " 'name:fi',\n",
       " 'name:id',\n",
       " 'name:ro',\n",
       " 'name:eu',\n",
       " 'name:lt',\n",
       " 'name:lv',\n",
       " 'contact:phone',\n",
       " 'contact:website',\n",
       " 'source:name',\n",
       " 'alt_name:de',\n",
       " 'fuel:octane_80',\n",
       " 'fuel:octane_91',\n",
       " 'ref:manager',\n",
       " 'heritage',\n",
       " 'heritage:operator',\n",
       " 'ref:cn:guobao',\n",
       " 'url',\n",
       " 'name:ja-Latn',\n",
       " 'abbr_name',\n",
       " 'roof',\n",
       " 'name:ms',\n",
       " 'disused:amenity',\n",
       " 'healthcare:speciality',\n",
       " 'nat_name',\n",
       " 'official_name:en',\n",
       " 'official_name:ja',\n",
       " 'official_name:ru',\n",
       " 'official_name:zh',\n",
       " 'reg_name',\n",
       " 'tiger:county',\n",
       " 'zoo',\n",
       " 'name:be',\n",
       " 'building_1',\n",
       " 'en',\n",
       " 'communication:radio',\n",
       " 'communication:television',\n",
       " 'official_name:zh-Hant',\n",
       " 'name_1',\n",
       " 'alt_name:ko',\n",
       " 'private',\n",
       " 'name:nan',\n",
       " 'name:nan-HJ',\n",
       " 'name:nan-POJ',\n",
       " 'name:nan-TL',\n",
       " 'contact:twitter',\n",
       " 'static',\n",
       " 'contact:email',\n",
       " 'name:sk',\n",
       " 'name:ga',\n",
       " 'abbr_name:en',\n",
       " 'phone_1',\n",
       " 'theatre:genre',\n",
       " 'occupancy',\n",
       " 'ref:RWTH',\n",
       " 'stairs',\n",
       " 'name:hr',\n",
       " 'payment:campus_card',\n",
       " 'light_rail',\n",
       " 'dispensing',\n",
       " 'roof:direction',\n",
       " 'service:vehicle:car_repair',\n",
       " 'service:vehicle:new_car_sales',\n",
       " 'trolleybus',\n",
       " 'piste:lit',\n",
       " 'piste:oneway',\n",
       " 'piste:type',\n",
       " 'brand:zh-Hant',\n",
       " 'building:level',\n",
       " 'building:prefabricated',\n",
       " 'full_name',\n",
       " 'vaccination',\n",
       " 'aircraft:type',\n",
       " 'street_cabinet',\n",
       " 'communication:5G',\n",
       " 'communication:antenna',\n",
       " 'communication:mobile_phone',\n",
       " 'name_en',\n",
       " 'wholesale',\n",
       " 'brand:zn',\n",
       " 'service:vehicle:batteries',\n",
       " 'service:vehicle:diagnostics',\n",
       " 'service:vehicle:tyres',\n",
       " 'recycling_type',\n",
       " 'industrial',\n",
       " 'payment:apple_pay',\n",
       " 'abandoned:building',\n",
       " 'toilets:position',\n",
       " 'school',\n",
       " 'theatre',\n",
       " 'boundary',\n",
       " 'protect_class',\n",
       " 'protection_title',\n",
       " 'architect:wikidata',\n",
       " 'name:bg',\n",
       " 'house',\n",
       " 'name:sv',\n",
       " 'tomb',\n",
       " 'wikipedia:de',\n",
       " 'inscription',\n",
       " 'memorial',\n",
       " 'name:no',\n",
       " 'name:uk',\n",
       " 'elevator',\n",
       " 'area:highway',\n",
       " 'map_size',\n",
       " 'species:wikidata',\n",
       " 'species:wikipedia',\n",
       " 'historic:period',\n",
       " 'tgw_type',\n",
       " 'alt_name_2']"
      ]
     },
     "execution_count": 25,
     "metadata": {},
     "output_type": "execute_result"
    }
   ],
   "source": [
    "list(gdf_buildings.columns)"
   ]
  },
  {
   "cell_type": "code",
   "execution_count": 41,
   "metadata": {},
   "outputs": [
    {
     "data": {
      "text/plain": [
       "['yes',\n",
       " 'apartments',\n",
       " 'residential',\n",
       " 'house',\n",
       " 'bungalow',\n",
       " 'school',\n",
       " 'commercial',\n",
       " 'detached',\n",
       " 'industrial',\n",
       " 'university',\n",
       " 'warehouse',\n",
       " 'office',\n",
       " 'retail',\n",
       " 'dormitory',\n",
       " 'roof',\n",
       " 'hospital',\n",
       " 'college',\n",
       " 'transportation',\n",
       " 'train_station',\n",
       " 'ruins',\n",
       " 'wall',\n",
       " 'greenhouse',\n",
       " 'kindergarten',\n",
       " 'hotel',\n",
       " 'garages',\n",
       " 'public',\n",
       " 'construction',\n",
       " 'tower',\n",
       " 'carport',\n",
       " 'grandstand',\n",
       " 'bunker',\n",
       " 'stadium',\n",
       " 'hangar',\n",
       " 'semidetached_house',\n",
       " 'service',\n",
       " 'hut',\n",
       " 'farm',\n",
       " 'terrace',\n",
       " 'temple',\n",
       " 'garage',\n",
       " 'military',\n",
       " 'parking',\n",
       " 'stable',\n",
       " 'storage_tank',\n",
       " 'statue',\n",
       " 'mosque',\n",
       " 'church',\n",
       " 'shed',\n",
       " 'civic',\n",
       " 'dam',\n",
       " 'silo',\n",
       " 'pavilion',\n",
       " 'toll_booth',\n",
       " 'gate',\n",
       " 'cowshed',\n",
       " 'no',\n",
       " 'gasometer',\n",
       " 'toilets',\n",
       " 'shrine',\n",
       " 'outbuilding',\n",
       " 'sty',\n",
       " 'guardhouse',\n",
       " 'embassy',\n",
       " 'religious',\n",
       " 'company',\n",
       " 'research_institute',\n",
       " 'chapel',\n",
       " 'government',\n",
       " 'railway',\n",
       " 'bridge',\n",
       " 'hotel;yes',\n",
       " 'yes;school',\n",
       " 'railway_station',\n",
       " 'sheepfold',\n",
       " 'temporary',\n",
       " 'restaurant',\n",
       " 'yes;house',\n",
       " 'barn',\n",
       " 'washroom',\n",
       " 'entrance',\n",
       " 'station',\n",
       " 'museum',\n",
       " 'library',\n",
       " 'gymnasium',\n",
       " 'boathouse',\n",
       " 'gatehouse',\n",
       " 'tree_house',\n",
       " 'farm_auxiliary',\n",
       " 'depot',\n",
       " 'ger',\n",
       " 'kiln']"
      ]
     },
     "execution_count": 41,
     "metadata": {},
     "output_type": "execute_result"
    }
   ],
   "source": [
    "i = 9\n",
    "list(gdf_buildings.building.value_counts().index)\n"
   ]
  },
  {
   "cell_type": "code",
   "execution_count": 51,
   "metadata": {},
   "outputs": [
    {
     "name": "stderr",
     "output_type": "stream",
     "text": [
      "c:\\Users\\Rui_Chen\\anaconda3\\envs\\elec\\lib\\site-packages\\geopandas\\geodataframe.py:1538: SettingWithCopyWarning: \n",
      "A value is trying to be set on a copy of a slice from a DataFrame.\n",
      "Try using .loc[row_indexer,col_indexer] = value instead\n",
      "\n",
      "See the caveats in the documentation: https://pandas.pydata.org/pandas-docs/stable/user_guide/indexing.html#returning-a-view-versus-a-copy\n",
      "  super().__setitem__(key, value)\n"
     ]
    },
    {
     "data": {
      "text/html": [
       "<div>\n",
       "<style scoped>\n",
       "    .dataframe tbody tr th:only-of-type {\n",
       "        vertical-align: middle;\n",
       "    }\n",
       "\n",
       "    .dataframe tbody tr th {\n",
       "        vertical-align: top;\n",
       "    }\n",
       "\n",
       "    .dataframe thead th {\n",
       "        text-align: right;\n",
       "    }\n",
       "</style>\n",
       "<table border=\"1\" class=\"dataframe\">\n",
       "  <thead>\n",
       "    <tr style=\"text-align: right;\">\n",
       "      <th></th>\n",
       "      <th>element_type</th>\n",
       "      <th>osmid</th>\n",
       "      <th>building</th>\n",
       "      <th>geometry</th>\n",
       "    </tr>\n",
       "  </thead>\n",
       "  <tbody>\n",
       "    <tr>\n",
       "      <th>0</th>\n",
       "      <td>way</td>\n",
       "      <td>136879065</td>\n",
       "      <td>yes</td>\n",
       "      <td>POLYGON ((117.41971 39.44821, 117.41884 39.449...</td>\n",
       "    </tr>\n",
       "    <tr>\n",
       "      <th>1</th>\n",
       "      <td>way</td>\n",
       "      <td>136879066</td>\n",
       "      <td>yes</td>\n",
       "      <td>POLYGON ((117.42677 39.44808, 117.42740 39.448...</td>\n",
       "    </tr>\n",
       "    <tr>\n",
       "      <th>2</th>\n",
       "      <td>way</td>\n",
       "      <td>136879068</td>\n",
       "      <td>yes</td>\n",
       "      <td>POLYGON ((117.42063 39.44530, 117.42189 39.446...</td>\n",
       "    </tr>\n",
       "    <tr>\n",
       "      <th>3</th>\n",
       "      <td>way</td>\n",
       "      <td>136879070</td>\n",
       "      <td>yes</td>\n",
       "      <td>POLYGON ((117.42249 39.44656, 117.42268 39.446...</td>\n",
       "    </tr>\n",
       "    <tr>\n",
       "      <th>4</th>\n",
       "      <td>way</td>\n",
       "      <td>136879072</td>\n",
       "      <td>yes</td>\n",
       "      <td>POLYGON ((117.42479 39.44635, 117.42558 39.446...</td>\n",
       "    </tr>\n",
       "    <tr>\n",
       "      <th>...</th>\n",
       "      <td>...</td>\n",
       "      <td>...</td>\n",
       "      <td>...</td>\n",
       "      <td>...</td>\n",
       "    </tr>\n",
       "    <tr>\n",
       "      <th>133939</th>\n",
       "      <td>way</td>\n",
       "      <td>1153487669</td>\n",
       "      <td>roof</td>\n",
       "      <td>POLYGON ((115.56875 40.87473, 115.56878 40.874...</td>\n",
       "    </tr>\n",
       "    <tr>\n",
       "      <th>133940</th>\n",
       "      <td>way</td>\n",
       "      <td>1153487676</td>\n",
       "      <td>retail</td>\n",
       "      <td>POLYGON ((115.57516 40.86999, 115.57600 40.870...</td>\n",
       "    </tr>\n",
       "    <tr>\n",
       "      <th>133941</th>\n",
       "      <td>way</td>\n",
       "      <td>1153487677</td>\n",
       "      <td>roof</td>\n",
       "      <td>POLYGON ((115.57849 40.87106, 115.57853 40.870...</td>\n",
       "    </tr>\n",
       "    <tr>\n",
       "      <th>133942</th>\n",
       "      <td>way</td>\n",
       "      <td>1233495471</td>\n",
       "      <td>yes</td>\n",
       "      <td>POLYGON ((115.84090 40.92063, 115.84090 40.920...</td>\n",
       "    </tr>\n",
       "    <tr>\n",
       "      <th>133943</th>\n",
       "      <td>way</td>\n",
       "      <td>1233497325</td>\n",
       "      <td>yes</td>\n",
       "      <td>POLYGON ((115.81496 40.86308, 115.81688 40.863...</td>\n",
       "    </tr>\n",
       "  </tbody>\n",
       "</table>\n",
       "<p>133944 rows × 4 columns</p>\n",
       "</div>"
      ],
      "text/plain": [
       "       element_type       osmid building  \\\n",
       "0               way   136879065      yes   \n",
       "1               way   136879066      yes   \n",
       "2               way   136879068      yes   \n",
       "3               way   136879070      yes   \n",
       "4               way   136879072      yes   \n",
       "...             ...         ...      ...   \n",
       "133939          way  1153487669     roof   \n",
       "133940          way  1153487676   retail   \n",
       "133941          way  1153487677     roof   \n",
       "133942          way  1233495471      yes   \n",
       "133943          way  1233497325      yes   \n",
       "\n",
       "                                                 geometry  \n",
       "0       POLYGON ((117.41971 39.44821, 117.41884 39.449...  \n",
       "1       POLYGON ((117.42677 39.44808, 117.42740 39.448...  \n",
       "2       POLYGON ((117.42063 39.44530, 117.42189 39.446...  \n",
       "3       POLYGON ((117.42249 39.44656, 117.42268 39.446...  \n",
       "4       POLYGON ((117.42479 39.44635, 117.42558 39.446...  \n",
       "...                                                   ...  \n",
       "133939  POLYGON ((115.56875 40.87473, 115.56878 40.874...  \n",
       "133940  POLYGON ((115.57516 40.86999, 115.57600 40.870...  \n",
       "133941  POLYGON ((115.57849 40.87106, 115.57853 40.870...  \n",
       "133942  POLYGON ((115.84090 40.92063, 115.84090 40.920...  \n",
       "133943  POLYGON ((115.81496 40.86308, 115.81688 40.863...  \n",
       "\n",
       "[133944 rows x 4 columns]"
      ]
     },
     "execution_count": 51,
     "metadata": {},
     "output_type": "execute_result"
    }
   ],
   "source": [
    "# 删除element index\n",
    "gdf_buildings_ = gdf_buildings[['building', 'geometry']]\n",
    "def get_building_type(x):\n",
    "    if type(x) == shapely.geometry.polygon.Polygon or type(x) == shapely.geometry.multipolygon.MultiPolygon:\n",
    "        return 1\n",
    "    else:\n",
    "        return 0\n",
    "\n",
    "gdf_buildings_['type'] = gdf_buildings_['geometry'].apply(get_building_type)\n",
    "gdf_buildings_ = gdf_buildings_[gdf_buildings_['type'] == 1]\n",
    "gdf_buildings_ = gdf_buildings_.drop('type', axis=1)\n",
    "gdf_buildings_ = gdf_buildings_.reset_index()\n",
    "gdf_buildings_\n",
    "\n",
    "# m = folium.Map(location=[39.9, 116.4], zoom_start=12)\n",
    "# folium.GeoJson(gdf_buildings[['building', 'geometry']].iloc[:10000]).add_to(m)\n",
    "# m.save('./data/data_bj/buildings.html')"
   ]
  },
  {
   "cell_type": "code",
   "execution_count": 49,
   "metadata": {},
   "outputs": [
    {
     "ename": "ValueError",
     "evalue": "cannot insert osmid, already exists",
     "output_type": "error",
     "traceback": [
      "\u001b[1;31m---------------------------------------------------------------------------\u001b[0m",
      "\u001b[1;31mValueError\u001b[0m                                Traceback (most recent call last)",
      "Input \u001b[1;32mIn [49]\u001b[0m, in \u001b[0;36m<cell line: 1>\u001b[1;34m()\u001b[0m\n\u001b[1;32m----> 1\u001b[0m \u001b[43mgdf_buildings_\u001b[49m\u001b[38;5;241;43m.\u001b[39;49m\u001b[43mreset_index\u001b[49m\u001b[43m(\u001b[49m\u001b[43m)\u001b[49m\n",
      "File \u001b[1;32mc:\\Users\\Rui_Chen\\anaconda3\\envs\\elec\\lib\\site-packages\\pandas\\util\\_decorators.py:311\u001b[0m, in \u001b[0;36mdeprecate_nonkeyword_arguments.<locals>.decorate.<locals>.wrapper\u001b[1;34m(*args, **kwargs)\u001b[0m\n\u001b[0;32m    305\u001b[0m \u001b[38;5;28;01mif\u001b[39;00m \u001b[38;5;28mlen\u001b[39m(args) \u001b[38;5;241m>\u001b[39m num_allow_args:\n\u001b[0;32m    306\u001b[0m     warnings\u001b[38;5;241m.\u001b[39mwarn(\n\u001b[0;32m    307\u001b[0m         msg\u001b[38;5;241m.\u001b[39mformat(arguments\u001b[38;5;241m=\u001b[39marguments),\n\u001b[0;32m    308\u001b[0m         \u001b[38;5;167;01mFutureWarning\u001b[39;00m,\n\u001b[0;32m    309\u001b[0m         stacklevel\u001b[38;5;241m=\u001b[39mstacklevel,\n\u001b[0;32m    310\u001b[0m     )\n\u001b[1;32m--> 311\u001b[0m \u001b[38;5;28;01mreturn\u001b[39;00m \u001b[43mfunc\u001b[49m\u001b[43m(\u001b[49m\u001b[38;5;241;43m*\u001b[39;49m\u001b[43margs\u001b[49m\u001b[43m,\u001b[49m\u001b[43m \u001b[49m\u001b[38;5;241;43m*\u001b[39;49m\u001b[38;5;241;43m*\u001b[39;49m\u001b[43mkwargs\u001b[49m\u001b[43m)\u001b[49m\n",
      "File \u001b[1;32mc:\\Users\\Rui_Chen\\anaconda3\\envs\\elec\\lib\\site-packages\\pandas\\core\\frame.py:5848\u001b[0m, in \u001b[0;36mDataFrame.reset_index\u001b[1;34m(self, level, drop, inplace, col_level, col_fill)\u001b[0m\n\u001b[0;32m   5842\u001b[0m         \u001b[38;5;28;01mif\u001b[39;00m lab \u001b[38;5;129;01mis\u001b[39;00m \u001b[38;5;129;01mnot\u001b[39;00m \u001b[38;5;28;01mNone\u001b[39;00m:\n\u001b[0;32m   5843\u001b[0m             \u001b[38;5;66;03m# if we have the codes, extract the values with a mask\u001b[39;00m\n\u001b[0;32m   5844\u001b[0m             level_values \u001b[38;5;241m=\u001b[39m algorithms\u001b[38;5;241m.\u001b[39mtake(\n\u001b[0;32m   5845\u001b[0m                 level_values, lab, allow_fill\u001b[38;5;241m=\u001b[39m\u001b[38;5;28;01mTrue\u001b[39;00m, fill_value\u001b[38;5;241m=\u001b[39mlev\u001b[38;5;241m.\u001b[39m_na_value\n\u001b[0;32m   5846\u001b[0m             )\n\u001b[1;32m-> 5848\u001b[0m         \u001b[43mnew_obj\u001b[49m\u001b[38;5;241;43m.\u001b[39;49m\u001b[43minsert\u001b[49m\u001b[43m(\u001b[49m\u001b[38;5;241;43m0\u001b[39;49m\u001b[43m,\u001b[49m\u001b[43m \u001b[49m\u001b[43mname\u001b[49m\u001b[43m,\u001b[49m\u001b[43m \u001b[49m\u001b[43mlevel_values\u001b[49m\u001b[43m)\u001b[49m\n\u001b[0;32m   5850\u001b[0m new_obj\u001b[38;5;241m.\u001b[39mindex \u001b[38;5;241m=\u001b[39m new_index\n\u001b[0;32m   5851\u001b[0m \u001b[38;5;28;01mif\u001b[39;00m \u001b[38;5;129;01mnot\u001b[39;00m inplace:\n",
      "File \u001b[1;32mc:\\Users\\Rui_Chen\\anaconda3\\envs\\elec\\lib\\site-packages\\pandas\\core\\frame.py:4443\u001b[0m, in \u001b[0;36mDataFrame.insert\u001b[1;34m(self, loc, column, value, allow_duplicates)\u001b[0m\n\u001b[0;32m   4437\u001b[0m     \u001b[38;5;28;01mraise\u001b[39;00m \u001b[38;5;167;01mValueError\u001b[39;00m(\n\u001b[0;32m   4438\u001b[0m         \u001b[38;5;124m\"\u001b[39m\u001b[38;5;124mCannot specify \u001b[39m\u001b[38;5;124m'\u001b[39m\u001b[38;5;124mallow_duplicates=True\u001b[39m\u001b[38;5;124m'\u001b[39m\u001b[38;5;124m when \u001b[39m\u001b[38;5;124m\"\u001b[39m\n\u001b[0;32m   4439\u001b[0m         \u001b[38;5;124m\"\u001b[39m\u001b[38;5;124m'\u001b[39m\u001b[38;5;124mself.flags.allows_duplicate_labels\u001b[39m\u001b[38;5;124m'\u001b[39m\u001b[38;5;124m is False.\u001b[39m\u001b[38;5;124m\"\u001b[39m\n\u001b[0;32m   4440\u001b[0m     )\n\u001b[0;32m   4441\u001b[0m \u001b[38;5;28;01mif\u001b[39;00m \u001b[38;5;129;01mnot\u001b[39;00m allow_duplicates \u001b[38;5;129;01mand\u001b[39;00m column \u001b[38;5;129;01min\u001b[39;00m \u001b[38;5;28mself\u001b[39m\u001b[38;5;241m.\u001b[39mcolumns:\n\u001b[0;32m   4442\u001b[0m     \u001b[38;5;66;03m# Should this be a different kind of error??\u001b[39;00m\n\u001b[1;32m-> 4443\u001b[0m     \u001b[38;5;28;01mraise\u001b[39;00m \u001b[38;5;167;01mValueError\u001b[39;00m(\u001b[38;5;124mf\u001b[39m\u001b[38;5;124m\"\u001b[39m\u001b[38;5;124mcannot insert \u001b[39m\u001b[38;5;132;01m{\u001b[39;00mcolumn\u001b[38;5;132;01m}\u001b[39;00m\u001b[38;5;124m, already exists\u001b[39m\u001b[38;5;124m\"\u001b[39m)\n\u001b[0;32m   4444\u001b[0m \u001b[38;5;28;01mif\u001b[39;00m \u001b[38;5;129;01mnot\u001b[39;00m \u001b[38;5;28misinstance\u001b[39m(loc, \u001b[38;5;28mint\u001b[39m):\n\u001b[0;32m   4445\u001b[0m     \u001b[38;5;28;01mraise\u001b[39;00m \u001b[38;5;167;01mTypeError\u001b[39;00m(\u001b[38;5;124m\"\u001b[39m\u001b[38;5;124mloc must be int\u001b[39m\u001b[38;5;124m\"\u001b[39m)\n",
      "\u001b[1;31mValueError\u001b[0m: cannot insert osmid, already exists"
     ]
    }
   ],
   "source": [
    "gdf_buildings_.reset_index()"
   ]
  },
  {
   "cell_type": "code",
   "execution_count": 46,
   "metadata": {},
   "outputs": [
    {
     "data": {
      "text/plain": [
       "134142"
      ]
     },
     "execution_count": 46,
     "metadata": {},
     "output_type": "execute_result"
    }
   ],
   "source": [
    "len(set([x[1] for x in list(gdf_buildings.index)]))"
   ]
  },
  {
   "cell_type": "code",
   "execution_count": 54,
   "metadata": {},
   "outputs": [
    {
     "data": {
      "text/plain": [
       "'Polygon'"
      ]
     },
     "execution_count": 54,
     "metadata": {},
     "output_type": "execute_result"
    }
   ],
   "source": [
    "from shapely.geometry import Polygon, MultiPolygon\n",
    "\n",
    "x = gdf_buildings_.iloc[0].geometry\n",
    "x.geom_type"
   ]
  },
  {
   "cell_type": "code",
   "execution_count": 55,
   "metadata": {},
   "outputs": [
    {
     "data": {
      "text/plain": [
       "'MultiPolygon'"
      ]
     },
     "execution_count": 55,
     "metadata": {},
     "output_type": "execute_result"
    }
   ],
   "source": [
    "t = MultiPolygon([x])\n",
    "t.geom_type"
   ]
  },
  {
   "cell_type": "code",
   "execution_count": 57,
   "metadata": {},
   "outputs": [
    {
     "data": {
      "text/plain": [
       "True"
      ]
     },
     "execution_count": 57,
     "metadata": {},
     "output_type": "execute_result"
    }
   ],
   "source": [
    "5 in {1, 2, 5}"
   ]
  },
  {
   "cell_type": "code",
   "execution_count": 58,
   "metadata": {},
   "outputs": [],
   "source": [
    "import geopandas as gpd\n",
    "\n",
    "gdf = gpd.read_file('./data/data_bj/region.geojson')"
   ]
  },
  {
   "cell_type": "code",
   "execution_count": 59,
   "metadata": {},
   "outputs": [
    {
     "data": {
      "text/html": [
       "<div>\n",
       "<style scoped>\n",
       "    .dataframe tbody tr th:only-of-type {\n",
       "        vertical-align: middle;\n",
       "    }\n",
       "\n",
       "    .dataframe tbody tr th {\n",
       "        vertical-align: top;\n",
       "    }\n",
       "\n",
       "    .dataframe thead th {\n",
       "        text-align: right;\n",
       "    }\n",
       "</style>\n",
       "<table border=\"1\" class=\"dataframe\">\n",
       "  <thead>\n",
       "    <tr style=\"text-align: right;\">\n",
       "      <th></th>\n",
       "      <th>name</th>\n",
       "      <th>geometry</th>\n",
       "    </tr>\n",
       "  </thead>\n",
       "  <tbody>\n",
       "    <tr>\n",
       "      <th>0</th>\n",
       "      <td>Region_1000</td>\n",
       "      <td>POLYGON ((116.44605 39.92142, 116.44620 39.921...</td>\n",
       "    </tr>\n",
       "    <tr>\n",
       "      <th>1</th>\n",
       "      <td>Region_1001</td>\n",
       "      <td>POLYGON ((116.24726 39.92394, 116.25825 39.922...</td>\n",
       "    </tr>\n",
       "    <tr>\n",
       "      <th>2</th>\n",
       "      <td>Region_1002</td>\n",
       "      <td>POLYGON ((116.29054 39.92274, 116.29083 39.922...</td>\n",
       "    </tr>\n",
       "    <tr>\n",
       "      <th>3</th>\n",
       "      <td>Region_1004</td>\n",
       "      <td>POLYGON ((116.35842 39.92228, 116.35842 39.922...</td>\n",
       "    </tr>\n",
       "    <tr>\n",
       "      <th>4</th>\n",
       "      <td>Region_1005</td>\n",
       "      <td>POLYGON ((116.19135 39.92343, 116.19164 39.923...</td>\n",
       "    </tr>\n",
       "  </tbody>\n",
       "</table>\n",
       "</div>"
      ],
      "text/plain": [
       "          name                                           geometry\n",
       "0  Region_1000  POLYGON ((116.44605 39.92142, 116.44620 39.921...\n",
       "1  Region_1001  POLYGON ((116.24726 39.92394, 116.25825 39.922...\n",
       "2  Region_1002  POLYGON ((116.29054 39.92274, 116.29083 39.922...\n",
       "3  Region_1004  POLYGON ((116.35842 39.92228, 116.35842 39.922...\n",
       "4  Region_1005  POLYGON ((116.19135 39.92343, 116.19164 39.923..."
      ]
     },
     "execution_count": 59,
     "metadata": {},
     "output_type": "execute_result"
    }
   ],
   "source": [
    "gdf.head()"
   ]
  },
  {
   "cell_type": "code",
   "execution_count": 60,
   "metadata": {},
   "outputs": [],
   "source": [
    "gdf['GEOID'] = gdf['name'].str.split('_').apply(lambda x: x[1])\n"
   ]
  },
  {
   "cell_type": "code",
   "execution_count": 63,
   "metadata": {},
   "outputs": [],
   "source": [
    "from pyproj import Geod\n",
    "geod = Geod(ellps=\"WGS84\")\n",
    "\n",
    "gdf['ALAND'] = gdf['geometry'].apply(lambda x: abs(geod.geometry_area_perimeter(x)[0]))"
   ]
  },
  {
   "cell_type": "code",
   "execution_count": 64,
   "metadata": {},
   "outputs": [
    {
     "data": {
      "text/html": [
       "<div>\n",
       "<style scoped>\n",
       "    .dataframe tbody tr th:only-of-type {\n",
       "        vertical-align: middle;\n",
       "    }\n",
       "\n",
       "    .dataframe tbody tr th {\n",
       "        vertical-align: top;\n",
       "    }\n",
       "\n",
       "    .dataframe thead th {\n",
       "        text-align: right;\n",
       "    }\n",
       "</style>\n",
       "<table border=\"1\" class=\"dataframe\">\n",
       "  <thead>\n",
       "    <tr style=\"text-align: right;\">\n",
       "      <th></th>\n",
       "      <th>name</th>\n",
       "      <th>geometry</th>\n",
       "      <th>GEOID</th>\n",
       "      <th>ALAND</th>\n",
       "    </tr>\n",
       "  </thead>\n",
       "  <tbody>\n",
       "    <tr>\n",
       "      <th>0</th>\n",
       "      <td>Region_1000</td>\n",
       "      <td>POLYGON ((116.44605 39.92142, 116.44620 39.921...</td>\n",
       "      <td>1000</td>\n",
       "      <td>169947.321138</td>\n",
       "    </tr>\n",
       "    <tr>\n",
       "      <th>1</th>\n",
       "      <td>Region_1001</td>\n",
       "      <td>POLYGON ((116.24726 39.92394, 116.25825 39.922...</td>\n",
       "      <td>1001</td>\n",
       "      <td>753998.925878</td>\n",
       "    </tr>\n",
       "    <tr>\n",
       "      <th>2</th>\n",
       "      <td>Region_1002</td>\n",
       "      <td>POLYGON ((116.29054 39.92274, 116.29083 39.922...</td>\n",
       "      <td>1002</td>\n",
       "      <td>318517.533868</td>\n",
       "    </tr>\n",
       "    <tr>\n",
       "      <th>3</th>\n",
       "      <td>Region_1004</td>\n",
       "      <td>POLYGON ((116.35842 39.92228, 116.35842 39.922...</td>\n",
       "      <td>1004</td>\n",
       "      <td>183693.190001</td>\n",
       "    </tr>\n",
       "    <tr>\n",
       "      <th>4</th>\n",
       "      <td>Region_1005</td>\n",
       "      <td>POLYGON ((116.19135 39.92343, 116.19164 39.923...</td>\n",
       "      <td>1005</td>\n",
       "      <td>713387.239207</td>\n",
       "    </tr>\n",
       "  </tbody>\n",
       "</table>\n",
       "</div>"
      ],
      "text/plain": [
       "          name                                           geometry GEOID  \\\n",
       "0  Region_1000  POLYGON ((116.44605 39.92142, 116.44620 39.921...  1000   \n",
       "1  Region_1001  POLYGON ((116.24726 39.92394, 116.25825 39.922...  1001   \n",
       "2  Region_1002  POLYGON ((116.29054 39.92274, 116.29083 39.922...  1002   \n",
       "3  Region_1004  POLYGON ((116.35842 39.92228, 116.35842 39.922...  1004   \n",
       "4  Region_1005  POLYGON ((116.19135 39.92343, 116.19164 39.923...  1005   \n",
       "\n",
       "           ALAND  \n",
       "0  169947.321138  \n",
       "1  753998.925878  \n",
       "2  318517.533868  \n",
       "3  183693.190001  \n",
       "4  713387.239207  "
      ]
     },
     "execution_count": 64,
     "metadata": {},
     "output_type": "execute_result"
    }
   ],
   "source": [
    "gdf.head()"
   ]
  },
  {
   "cell_type": "code",
   "execution_count": 65,
   "metadata": {},
   "outputs": [],
   "source": [
    "gdf.to_file('./data/data_bj/region.geojson', driver='GeoJSON')"
   ]
  },
  {
   "cell_type": "code",
   "execution_count": 66,
   "metadata": {},
   "outputs": [],
   "source": [
    "import pickle\n",
    "\n",
    "gdf_buildings = pickle.load(open('./data/data_bj/gdf_building.pkl', 'rb'))"
   ]
  },
  {
   "cell_type": "code",
   "execution_count": 67,
   "metadata": {},
   "outputs": [
    {
     "data": {
      "text/plain": [
       "<folium.features.GeoJson at 0x2958a3b8e80>"
      ]
     },
     "execution_count": 67,
     "metadata": {},
     "output_type": "execute_result"
    }
   ],
   "source": [
    "m = folium.Map(location=[39.9, 116.4], zoom_start=12)\n",
    "folium.GeoJson(gdf_buildings).add_to(m)"
   ]
  },
  {
   "cell_type": "code",
   "execution_count": 68,
   "metadata": {},
   "outputs": [
    {
     "data": {
      "text/plain": [
       "<folium.features.GeoJson at 0x29574b188b0>"
      ]
     },
     "execution_count": 68,
     "metadata": {},
     "output_type": "execute_result"
    }
   ],
   "source": [
    "folium.GeoJson(\n",
    "    gdf_buildings,\n",
    "    name=\"geojson\",\n",
    "    style_function=lambda x: {\n",
    "        \"fillColor\": \"red\",\n",
    "        \"color\": \"red\",\n",
    "        \"weight\": 2,  # 设置边界线宽度\n",
    "    },\n",
    ").add_to(m)"
   ]
  },
  {
   "cell_type": "code",
   "execution_count": 70,
   "metadata": {},
   "outputs": [
    {
     "data": {
      "text/plain": [
       "[39.782585844879286, 116.55651118878488]"
      ]
     },
     "execution_count": 70,
     "metadata": {},
     "output_type": "execute_result"
    }
   ],
   "source": [
    "gdf_buildings = gdf_buildings.reset_index()\n",
    "[gdf_buildings[\"geometry\"][0].centroid.y, gdf_buildings[\"geometry\"][0].centroid.x]"
   ]
  },
  {
   "cell_type": "code",
   "execution_count": 71,
   "metadata": {},
   "outputs": [
    {
     "data": {
      "text/plain": [
       "(20, 2)"
      ]
     },
     "execution_count": 71,
     "metadata": {},
     "output_type": "execute_result"
    }
   ],
   "source": [
    "import numpy as np\n",
    "\n",
    "data = np.random.randn(20, 2)\n",
    "data.shape"
   ]
  },
  {
   "cell_type": "code",
   "execution_count": 72,
   "metadata": {},
   "outputs": [
    {
     "data": {
      "text/plain": [
       "40"
      ]
     },
     "execution_count": 72,
     "metadata": {},
     "output_type": "execute_result"
    }
   ],
   "source": [
    "len(data.flatten())"
   ]
  },
  {
   "cell_type": "code",
   "execution_count": 73,
   "metadata": {},
   "outputs": [
    {
     "ename": "TypeError",
     "evalue": "list indices must be integers or slices, not tuple",
     "output_type": "error",
     "traceback": [
      "\u001b[1;31m---------------------------------------------------------------------------\u001b[0m",
      "\u001b[1;31mTypeError\u001b[0m                                 Traceback (most recent call last)",
      "Input \u001b[1;32mIn [73]\u001b[0m, in \u001b[0;36m<cell line: 2>\u001b[1;34m()\u001b[0m\n\u001b[0;32m      1\u001b[0m a \u001b[38;5;241m=\u001b[39m [\u001b[38;5;241m1\u001b[39m, \u001b[38;5;241m2\u001b[39m, \u001b[38;5;241m3\u001b[39m]\n\u001b[1;32m----> 2\u001b[0m \u001b[43ma\u001b[49m\u001b[43m[\u001b[49m\u001b[38;5;241;43m2\u001b[39;49m\u001b[43m,\u001b[49m\u001b[43m \u001b[49m\u001b[38;5;241;43m1\u001b[39;49m\u001b[43m,\u001b[49m\u001b[43m \u001b[49m\u001b[38;5;241;43m3\u001b[39;49m\u001b[43m]\u001b[49m\n",
      "\u001b[1;31mTypeError\u001b[0m: list indices must be integers or slices, not tuple"
     ]
    }
   ],
   "source": [
    "a = [1, 2, 3]\n",
    "a[2, 1, 3]"
   ]
  },
  {
   "cell_type": "code",
   "execution_count": 74,
   "metadata": {},
   "outputs": [
    {
     "ename": "TypeError",
     "evalue": "list indices must be integers or slices, not tuple",
     "output_type": "error",
     "traceback": [
      "\u001b[1;31m---------------------------------------------------------------------------\u001b[0m",
      "\u001b[1;31mTypeError\u001b[0m                                 Traceback (most recent call last)",
      "Input \u001b[1;32mIn [74]\u001b[0m, in \u001b[0;36m<cell line: 3>\u001b[1;34m()\u001b[0m\n\u001b[0;32m      1\u001b[0m \u001b[38;5;66;03m# 按照list的2，0，1的顺序取值\u001b[39;00m\n\u001b[0;32m      2\u001b[0m a \u001b[38;5;241m=\u001b[39m [\u001b[38;5;241m1\u001b[39m, \u001b[38;5;241m2\u001b[39m, \u001b[38;5;241m3\u001b[39m]\n\u001b[1;32m----> 3\u001b[0m \u001b[43ma\u001b[49m\u001b[43m[\u001b[49m\u001b[38;5;241;43m2\u001b[39;49m\u001b[43m,\u001b[49m\u001b[43m \u001b[49m\u001b[38;5;241;43m0\u001b[39;49m\u001b[43m,\u001b[49m\u001b[43m \u001b[49m\u001b[38;5;241;43m1\u001b[39;49m\u001b[43m]\u001b[49m\n",
      "\u001b[1;31mTypeError\u001b[0m: list indices must be integers or slices, not tuple"
     ]
    }
   ],
   "source": [
    "# 按照list的2，0，1的顺序取值\n",
    "a = [1, 2, 3]\n",
    "a[2, 0, 1]"
   ]
  },
  {
   "cell_type": "code",
   "execution_count": null,
   "metadata": {},
   "outputs": [],
   "source": []
  }
 ],
 "metadata": {
  "language_info": {
   "name": "python"
  }
 },
 "nbformat": 4,
 "nbformat_minor": 2
}
